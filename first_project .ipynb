{
 "cells": [
  {
   "cell_type": "markdown",
   "id": "0f85fd9a",
   "metadata": {},
   "source": [
    "# AppTrendz: A Comparative Analysis of Mobile Application Data|"
   ]
  },
  {
   "cell_type": "markdown",
   "id": "6e62bea2",
   "metadata": {},
   "source": [
    "## Introduction\n",
    "\n",
    "In \"AppTrendz,\" I embark on a solo journey as a data analyst, delving into the world of Android and iOS mobile application development. My project centers around applications that are free to download, with a revenue model based on in-app advertisements. The key to success in this model lies in user engagement: the higher the interaction with ads within my apps, the greater the potential for revenue. This project is not just an analytical exercise; it's a portfolio piece that demonstrates my capability to dissect and understand app store data, which is crucial for making informed strategic decisions in app development.\n",
    "\n",
    "My mission is to meticulously analyze the extensive data from the Apple Store and the Android Store. I aim to unearth trends and patterns that are pivotal in determining user engagement and the popularity of mobile apps. Through this project, I intend to equip myself with valuable insights about which types of apps are likely to draw a more substantial user base. More than just grasping the current trends, my analysis is directed towards forecasting which app genres are poised to capture the most attention and engagement from users. This project serves as a testament to my analytical skills and my adeptness at translating complex data into practical, actionable strategies for app development and marketing, making it an ideal showcase for potential employers and collaborators in the future.\n"
   ]
  },
  {
   "cell_type": "code",
   "execution_count": 1,
   "id": "f71bbca6",
   "metadata": {
    "scrolled": true
   },
   "outputs": [],
   "source": [
    "file_apple = open('AppleStore.csv')\n",
    "from csv import reader\n",
    "read = reader(file_apple)\n",
    "ios_data = list(read)\n",
    "ios_header = ios_data[0]"
   ]
  },
  {
   "cell_type": "code",
   "execution_count": 2,
   "id": "c81b3dba",
   "metadata": {},
   "outputs": [],
   "source": [
    "file_playstore = open('googleplaystore.csv')\n",
    "from csv import reader\n",
    "read = reader(file_playstore)\n",
    "apk_data = list(read)\n",
    "apk_header = apk_data[0]"
   ]
  },
  {
   "cell_type": "code",
   "execution_count": 3,
   "id": "56179499",
   "metadata": {},
   "outputs": [],
   "source": [
    "def explore_data(dataset, start, end, rows_and_columns=False):\n",
    "    dataset_slice = dataset[start:end]    \n",
    "    for row in dataset_slice:\n",
    "        print(row)\n",
    "        print('\\n')\n",
    "    if rows_and_columns:\n",
    "        print('Number of rows:', len(dataset))\n",
    "        print('Number of columns:', len(dataset[0]))"
   ]
  },
  {
   "cell_type": "code",
   "execution_count": 4,
   "id": "da581ff4",
   "metadata": {},
   "outputs": [
    {
     "name": "stdout",
     "output_type": "stream",
     "text": [
      "['id', 'track_name', 'size_bytes', 'currency', 'price', 'rating_count_tot', 'rating_count_ver', 'user_rating', 'user_rating_ver', 'ver', 'cont_rating', 'prime_genre', 'sup_devices.num', 'ipadSc_urls.num', 'lang.num', 'vpp_lic']\n",
      "\n",
      "\n",
      "['284882215', 'Facebook', '389879808', 'USD', '0.0', '2974676', '212', '3.5', '3.5', '95.0', '4+', 'Social Networking', '37', '1', '29', '1']\n",
      "\n",
      "\n",
      "['389801252', 'Instagram', '113954816', 'USD', '0.0', '2161558', '1289', '4.5', '4.0', '10.23', '12+', 'Photo & Video', '37', '0', '29', '1']\n",
      "\n",
      "\n",
      "Number of rows: 7198\n",
      "Number of columns: 16\n"
     ]
    }
   ],
   "source": [
    "print(ios_header)\n",
    "print('\\n')\n",
    "explore_data(ios_data,1,3,True)"
   ]
  },
  {
   "cell_type": "markdown",
   "id": "dcac5124",
   "metadata": {},
   "source": [
    "This dataset encompasses data for 7,197 iOS applications. The columns that stand out as particularly relevant for our study are: 'track_name', 'currency', 'price', 'rating_count_tot', 'rating_count_ver', and 'prime_genre'. While some column names may not be immediately clear, further information about each can be found in the accompanying documentation for the dataset."
   ]
  },
  {
   "cell_type": "code",
   "execution_count": 5,
   "id": "1e4fa424",
   "metadata": {
    "scrolled": true
   },
   "outputs": [
    {
     "name": "stdout",
     "output_type": "stream",
     "text": [
      "['App', 'Category', 'Rating', 'Reviews', 'Size', 'Installs', 'Type', 'Price', 'Content Rating', 'Genres', 'Last Updated', 'Current Ver', 'Android Ver']\n",
      "\n",
      "\n",
      "['Photo Editor & Candy Camera & Grid & ScrapBook', 'ART_AND_DESIGN', '4.1', '159', '19M', '10,000+', 'Free', '0', 'Everyone', 'Art & Design', 'January 7, 2018', '1.0.0', '4.0.3 and up']\n",
      "\n",
      "\n",
      "['Coloring book moana', 'ART_AND_DESIGN', '3.9', '967', '14M', '500,000+', 'Free', '0', 'Everyone', 'Art & Design;Pretend Play', 'January 15, 2018', '2.0.0', '4.0.3 and up']\n",
      "\n",
      "\n",
      "Number of rows: 10842\n",
      "Number of columns: 13\n"
     ]
    }
   ],
   "source": [
    "print(apk_header)\n",
    "print('\\n')\n",
    "explore_data(apk_data,1,3,True)"
   ]
  },
  {
   "cell_type": "markdown",
   "id": "1ff19a95",
   "metadata": {},
   "source": [
    "Upon examining the Google Play dataset, it's evident that it encompasses data for 10,841 applications, distributed across 13 distinct columns. On initial inspection, the columns that appear most pertinent for our analytical objectives include 'App', 'Category', 'Reviews', 'Installs', 'Type', 'Price', and 'Genres'\n"
   ]
  },
  {
   "cell_type": "markdown",
   "id": "41fce6bf",
   "metadata": {},
   "source": [
    "## Deleting Wrong Data"
   ]
  },
  {
   "cell_type": "markdown",
   "id": "feecd9d0",
   "metadata": {},
   "source": [
    "There's an active discussion section for the Google Play dataset, where one of the topics highlights a potential error in row 10472. To investigate this, we should display this specific row and examine it alongside the header row and another row from the dataset that we know is accurate, for comparison purposes."
   ]
  },
  {
   "cell_type": "code",
   "execution_count": 6,
   "id": "e055ed17",
   "metadata": {},
   "outputs": [
    {
     "name": "stdout",
     "output_type": "stream",
     "text": [
      "['App', 'Category', 'Rating', 'Reviews', 'Size', 'Installs', 'Type', 'Price', 'Content Rating', 'Genres', 'Last Updated', 'Current Ver', 'Android Ver']\n",
      "\n",
      "\n",
      "['Life Made WI-Fi Touchscreen Photo Frame', '1.9', '19', '3.0M', '1,000+', 'Free', '0', 'Everyone', '', 'February 11, 2018', '1.0.19', '4.0 and up']\n"
     ]
    }
   ],
   "source": [
    "print(apk_header)\n",
    "print('\\n')\n",
    "print(apk_data[10473])"
   ]
  },
  {
   "cell_type": "code",
   "execution_count": 7,
   "id": "e17c637a",
   "metadata": {},
   "outputs": [
    {
     "name": "stdout",
     "output_type": "stream",
     "text": [
      "10842\n",
      "\n",
      "\n",
      "['App', 'Category', 'Rating', 'Reviews', 'Size', 'Installs', 'Type', 'Price', 'Content Rating', 'Genres', 'Last Updated', 'Current Ver', 'Android Ver']\n"
     ]
    }
   ],
   "source": [
    "print(len(apk_data))\n",
    "print('\\n')\n",
    "print(apk_data[0]) "
   ]
  },
  {
   "cell_type": "markdown",
   "id": "7387d92d",
   "metadata": {},
   "source": [
    "Row 10472 pertains to the app 'Life Made WI-Fi Touchscreen Photo Frame', and it notably shows a rating of 19. This is an obvious anomaly since the highest possible rating for a Google Play app is 5. As  discussions in the dataset's forum, this issue stems from a missing entry in the 'Category' column. Therefore, the appropriate action is to remove this row from our dataset."
   ]
  },
  {
   "cell_type": "code",
   "execution_count": 8,
   "id": "b21e44a2",
   "metadata": {},
   "outputs": [],
   "source": [
    "del apk_data[10473] #Run only one time "
   ]
  },
  {
   "cell_type": "code",
   "execution_count": 9,
   "id": "2840f410",
   "metadata": {},
   "outputs": [
    {
     "name": "stdout",
     "output_type": "stream",
     "text": [
      "10841\n"
     ]
    }
   ],
   "source": [
    "print(len(apk_data))"
   ]
  },
  {
   "cell_type": "markdown",
   "id": "cae18632",
   "metadata": {},
   "source": [
    "## Removing Duplicate Entries"
   ]
  },
  {
   "cell_type": "code",
   "execution_count": 10,
   "id": "44695036",
   "metadata": {},
   "outputs": [
    {
     "name": "stdout",
     "output_type": "stream",
     "text": [
      "['Instagram', 'SOCIAL', '4.5', '66577313', 'Varies with device', '1,000,000,000+', 'Free', '0', 'Teen', 'Social', 'July 31, 2018', 'Varies with device', 'Varies with device']\n",
      "['Instagram', 'SOCIAL', '4.5', '66577446', 'Varies with device', '1,000,000,000+', 'Free', '0', 'Teen', 'Social', 'July 31, 2018', 'Varies with device', 'Varies with device']\n",
      "['Instagram', 'SOCIAL', '4.5', '66577313', 'Varies with device', '1,000,000,000+', 'Free', '0', 'Teen', 'Social', 'July 31, 2018', 'Varies with device', 'Varies with device']\n",
      "['Instagram', 'SOCIAL', '4.5', '66509917', 'Varies with device', '1,000,000,000+', 'Free', '0', 'Teen', 'Social', 'July 31, 2018', 'Varies with device', 'Varies with device']\n"
     ]
    }
   ],
   "source": [
    "for apps in apk_data:\n",
    "    name = apps[0]\n",
    "    if name == 'Instagram':\n",
    "        print(apps)"
   ]
  },
  {
   "cell_type": "code",
   "execution_count": 11,
   "id": "d0dc862a",
   "metadata": {},
   "outputs": [
    {
     "name": "stdout",
     "output_type": "stream",
     "text": [
      "number of duplicate   1181\n",
      "name of duplicate   ['Quick PDF Scanner + OCR FREE', 'Box', 'Google My Business', 'ZOOM Cloud Meetings', 'join.me - Simple Meetings']\n"
     ]
    }
   ],
   "source": [
    "duplicate = []\n",
    "unique = []\n",
    "for app in apk_data:\n",
    "    names = app[0]\n",
    "    if names in unique:\n",
    "        duplicate.append(names)\n",
    "    else:\n",
    "        unique.append(names)\n",
    "\n",
    "print('number of duplicate',' ',len(duplicate))\n",
    "print('name of duplicate',' ',duplicate[0:5])\n",
    "    "
   ]
  },
  {
   "cell_type": "markdown",
   "id": "e34cb8d6",
   "metadata": {},
   "source": [
    "We don't want to look at a particular app more than once during our analysis, so we would have to drop duplicate entries and keep just one entry for each app. Particularly, we would randomly delete duplicate rows, but we can do better. Checking cells, you can notice that for the Instagram app, there are two printed rows that have been printed. Inspecting those two rows, you could understand that the main difference is that it has occurred in the fourth position of each row, where the number of reviews is located. This essentially means that different numbers indicate that the data must have been obtained at different times.\n",
    "\n",
    "From there, we are going to derive a rule based on keeping rows. We won't be deleting rows at random; we will rather be keeping the one with the greatest review number. This is because a higher number of reviews provides a rating closer to the real performance, and thus we don't have to set a lower boundary for the quantity of reviews. We would do that by:\n",
    "\n",
    "Make a dictionary, where each key is a unique name of the app, and its value is the highest number of reviews of that app. Use this dictionary to make another dataset in a way that you have only one entry per app (and, this time, we take only the apps which have the maximum number of reviews)."
   ]
  },
  {
   "cell_type": "code",
   "execution_count": 12,
   "id": "a1356de5",
   "metadata": {},
   "outputs": [
    {
     "name": "stdout",
     "output_type": "stream",
     "text": [
      "9660\n"
     ]
    }
   ],
   "source": [
    "print(len(apk_data)-1181)"
   ]
  },
  {
   "cell_type": "markdown",
   "id": "607fb1a0",
   "metadata": {},
   "source": [
    "In this, it could be seen that from the 10840 data in the Google Play dataset, 1,181 were duplicates. From which we removed, this should be left with 9,660 rows"
   ]
  },
  {
   "cell_type": "markdown",
   "id": "e454dd48",
   "metadata": {},
   "source": [
    "## Next step"
   ]
  },
  {
   "cell_type": "code",
   "execution_count": 13,
   "id": "508293dc",
   "metadata": {},
   "outputs": [],
   "source": [
    "reviews_max = {}\n",
    "\n",
    "for app in apk_data[1:]: \n",
    "    name = app[0]\n",
    "    n_reviews = float(app[3])\n",
    "    \n",
    "    if name not in reviews_max:\n",
    "        reviews_max[name] = n_reviews\n",
    "    elif reviews_max[name] < n_reviews:\n",
    "        reviews_max[name] = n_reviews"
   ]
  },
  {
   "cell_type": "code",
   "execution_count": 14,
   "id": "5610637d",
   "metadata": {},
   "outputs": [
    {
     "name": "stdout",
     "output_type": "stream",
     "text": [
      "Expected len: 9659\n",
      "Actual len: 9659\n"
     ]
    }
   ],
   "source": [
    "print('Expected len:', len(apk_data[1:]) - 1181)\n",
    "print('Actual len:', len(reviews_max))"
   ]
  },
  {
   "cell_type": "code",
   "execution_count": 15,
   "id": "98057b54",
   "metadata": {},
   "outputs": [],
   "source": [
    "apk_clean = []\n",
    "already_added = []\n",
    "for app in apk_data[1:]:\n",
    "    name = app[0]\n",
    "    n_reviews = float(app[3])\n",
    "    \n",
    "    if (reviews_max[name] == n_reviews) and (name not in already_added):\n",
    "        apk_clean.append(app)\n",
    "        already_added.append(name)"
   ]
  },
  {
   "cell_type": "code",
   "execution_count": 16,
   "id": "e7d69f29",
   "metadata": {},
   "outputs": [
    {
     "name": "stdout",
     "output_type": "stream",
     "text": [
      "['Photo Editor & Candy Camera & Grid & ScrapBook', 'ART_AND_DESIGN', '4.1', '159', '19M', '10,000+', 'Free', '0', 'Everyone', 'Art & Design', 'January 7, 2018', '1.0.0', '4.0.3 and up']\n",
      "\n",
      "\n",
      "['U Launcher Lite – FREE Live Cool Themes, Hide Apps', 'ART_AND_DESIGN', '4.7', '87510', '8.7M', '5,000,000+', 'Free', '0', 'Everyone', 'Art & Design', 'August 1, 2018', '1.2.4', '4.0.3 and up']\n",
      "\n",
      "\n",
      "['Sketch - Draw & Paint', 'ART_AND_DESIGN', '4.5', '215644', '25M', '50,000,000+', 'Free', '0', 'Teen', 'Art & Design', 'June 8, 2018', 'Varies with device', '4.2 and up']\n",
      "\n",
      "\n",
      "Number of rows: 9659\n",
      "Number of columns: 13\n"
     ]
    }
   ],
   "source": [
    "explore_data(apk_clean, 0, 3, True)"
   ]
  },
  {
   "cell_type": "markdown",
   "id": "da55384f",
   "metadata": {},
   "source": [
    "We have 9659 rows, just as expected."
   ]
  },
  {
   "cell_type": "markdown",
   "id": "5a2a6438",
   "metadata": {},
   "source": [
    "## Removing Non-English Apps"
   ]
  },
  {
   "cell_type": "markdown",
   "id": "2632fd30",
   "metadata": {},
   "source": [
    "Some of the names of the applications, if looking at the data sets long enough, are likely not appropriate for an English-speaking audience. Here are some examples from both sets of data:"
   ]
  },
  {
   "cell_type": "code",
   "execution_count": 108,
   "id": "77347113",
   "metadata": {},
   "outputs": [],
   "source": [
    "def non_english(strings):\n",
    "    for character in strings:\n",
    "        if ord(character)> 127:\n",
    "            return False \n",
    "    return True"
   ]
  },
  {
   "cell_type": "code",
   "execution_count": 109,
   "id": "6ea5f9af",
   "metadata": {},
   "outputs": [
    {
     "name": "stdout",
     "output_type": "stream",
     "text": [
      "True\n",
      "False\n"
     ]
    }
   ],
   "source": [
    "print(non_english('Instagram'))\n",
    "print(non_english('爱奇艺PPS -《欢乐颂2》电视剧热播'))"
   ]
  },
  {
   "cell_type": "markdown",
   "id": "36c4a310",
   "metadata": {},
   "source": [
    " ## Removing Non-English Apps"
   ]
  },
  {
   "cell_type": "code",
   "execution_count": 110,
   "id": "44ac4bc4",
   "metadata": {},
   "outputs": [],
   "source": [
    "def non_english(string):\n",
    "    non_char = 0\n",
    "    \n",
    "    for character in string:\n",
    "        if ord(character) > 127:\n",
    "            non_char += 1\n",
    "    \n",
    "    if non_char > 3:\n",
    "        return False\n",
    "    else:\n",
    "        return True"
   ]
  },
  {
   "cell_type": "code",
   "execution_count": 111,
   "id": "b385085b",
   "metadata": {},
   "outputs": [
    {
     "name": "stdout",
     "output_type": "stream",
     "text": [
      "True\n",
      "True\n"
     ]
    }
   ],
   "source": [
    "print(non_english('Docs To Go™ Free Office Suite'))\n",
    "print(non_english('Instachat 😜'))"
   ]
  },
  {
   "cell_type": "code",
   "execution_count": 112,
   "id": "5e4688f9",
   "metadata": {},
   "outputs": [],
   "source": [
    "apk_english = []\n",
    "ios_english = []\n",
    "\n",
    "for app in apk_data[1:]:\n",
    "    name = app[0]\n",
    "    if non_english(name):\n",
    "        apk_english.append(app)\n",
    "        \n",
    "for app in ios_data[1:]:\n",
    "    name = app[0]\n",
    "    if non_english(name):\n",
    "        ios_english.append(app)        "
   ]
  },
  {
   "cell_type": "code",
   "execution_count": 113,
   "id": "e81b3648",
   "metadata": {},
   "outputs": [
    {
     "name": "stdout",
     "output_type": "stream",
     "text": [
      "['Photo Editor & Candy Camera & Grid & ScrapBook', 'ART_AND_DESIGN', '4.1', '159', '19M', '10,000+', 'Free', '0', 'Everyone', 'Art & Design', 'January 7, 2018', '1.0.0', '4.0.3 and up']\n",
      "\n",
      "\n",
      "['Coloring book moana', 'ART_AND_DESIGN', '3.9', '967', '14M', '500,000+', 'Free', '0', 'Everyone', 'Art & Design;Pretend Play', 'January 15, 2018', '2.0.0', '4.0.3 and up']\n",
      "\n",
      "\n",
      "['U Launcher Lite – FREE Live Cool Themes, Hide Apps', 'ART_AND_DESIGN', '4.7', '87510', '8.7M', '5,000,000+', 'Free', '0', 'Everyone', 'Art & Design', 'August 1, 2018', '1.2.4', '4.0.3 and up']\n",
      "\n",
      "\n",
      "['Sketch - Draw & Paint', 'ART_AND_DESIGN', '4.5', '215644', '25M', '50,000,000+', 'Free', '0', 'Teen', 'Art & Design', 'June 8, 2018', 'Varies with device', '4.2 and up']\n",
      "\n",
      "\n",
      "Number of rows: 10795\n",
      "Number of columns: 13\n",
      "\n",
      "\n",
      "['284882215', 'Facebook', '389879808', 'USD', '0.0', '2974676', '212', '3.5', '3.5', '95.0', '4+', 'Social Networking', '37', '1', '29', '1']\n",
      "\n",
      "\n",
      "['389801252', 'Instagram', '113954816', 'USD', '0.0', '2161558', '1289', '4.5', '4.0', '10.23', '12+', 'Photo & Video', '37', '0', '29', '1']\n",
      "\n",
      "\n",
      "['529479190', 'Clash of Clans', '116476928', 'USD', '0.0', '2130805', '579', '4.5', '4.5', '9.24.12', '9+', 'Games', '38', '5', '18', '1']\n",
      "\n",
      "\n",
      "['420009108', 'Temple Run', '65921024', 'USD', '0.0', '1724546', '3842', '4.5', '4.0', '1.6.2', '9+', 'Games', '40', '5', '1', '1']\n",
      "\n",
      "\n",
      "Number of rows: 7197\n",
      "Number of columns: 16\n"
     ]
    }
   ],
   "source": [
    "explore_data(apk_english, 0, 4, True)\n",
    "print('\\n')\n",
    "explore_data(ios_english, 0, 4, True)"
   ]
  },
  {
   "cell_type": "markdown",
   "id": "8cfa4210",
   "metadata": {},
   "source": [
    "## Isolating the Free Apps\n",
    "Just to take you back to our introduction, our company develops free-to-download-and-install apps; the in-app ads are merely our revenue streams. So, in the data sets, we will have admixtures of free and non-free apps, thus we should begin by singling out only the free apps."
   ]
  },
  {
   "cell_type": "code",
   "execution_count": 114,
   "id": "e3a2f02c",
   "metadata": {},
   "outputs": [
    {
     "name": "stdout",
     "output_type": "stream",
     "text": [
      "[['App', 'Category', 'Rating', 'Reviews', 'Size', 'Installs', 'Type', 'Price', 'Content Rating', 'Genres', 'Last Updated', 'Current Ver', 'Android Ver'], ['Photo Editor & Candy Camera & Grid & ScrapBook', 'ART_AND_DESIGN', '4.1', '159', '19M', '10,000+', 'Free', '0', 'Everyone', 'Art & Design', 'January 7, 2018', '1.0.0', '4.0.3 and up']]\n"
     ]
    }
   ],
   "source": [
    "print(apk_data[0:2])"
   ]
  },
  {
   "cell_type": "code",
   "execution_count": 115,
   "id": "77d75f1f",
   "metadata": {},
   "outputs": [
    {
     "name": "stdout",
     "output_type": "stream",
     "text": [
      "[['id', 'track_name', 'size_bytes', 'currency', 'price', 'rating_count_tot', 'rating_count_ver', 'user_rating', 'user_rating_ver', 'ver', 'cont_rating', 'prime_genre', 'sup_devices.num', 'ipadSc_urls.num', 'lang.num', 'vpp_lic'], ['284882215', 'Facebook', '389879808', 'USD', '0.0', '2974676', '212', '3.5', '3.5', '95.0', '4+', 'Social Networking', '37', '1', '29', '1']]\n"
     ]
    }
   ],
   "source": [
    "print(ios_data[0:2])"
   ]
  },
  {
   "cell_type": "code",
   "execution_count": 116,
   "id": "f1177596",
   "metadata": {},
   "outputs": [],
   "source": [
    "apk_final = []\n",
    "ios_final = []\n",
    "\n",
    "for app in apk_data[1:]:\n",
    "    price = app[7]\n",
    "    if price == '0':\n",
    "        apk_final.append(app)\n",
    "for app in ios_data[1:]:\n",
    "    price = app[4]\n",
    "    if price == '0.0':\n",
    "        ios_final.append(app)"
   ]
  },
  {
   "cell_type": "code",
   "execution_count": 117,
   "id": "d5668306",
   "metadata": {},
   "outputs": [
    {
     "name": "stdout",
     "output_type": "stream",
     "text": [
      "10040\n",
      "4056\n"
     ]
    }
   ],
   "source": [
    "print(len(apk_final))\n",
    "print(len(ios_final))"
   ]
  },
  {
   "cell_type": "markdown",
   "id": "841c5d15",
   "metadata": {},
   "source": [
    "## Most Common Apps by Genre"
   ]
  },
  {
   "cell_type": "markdown",
   "id": "1641f3fc",
   "metadata": {},
   "source": [
    "This being so, our strategy to validate the idea for an app is threefold:\n",
    "\n",
    "1. Forthcoming is the minimally possible version of the app for Android phones on Google Play.\n",
    "\n",
    "2. Development is actually done and updated if in the course of feedback from users the ratings end up being good.\n",
    "\n",
    "3. That is, only when after six months we have made sure that the app has already brought some profit, do we go on and develop the iOS app and load it into the App Store.\n",
    "\n",
    "If we go on and push this, because in the end our goal is adding the app in the App Store and Google Play, we should be looking for successful app profiles that have an impact on one."
   ]
  },
  {
   "cell_type": "markdown",
   "id": "995db2cb",
   "metadata": {},
   "source": [
    "### part one"
   ]
  },
  {
   "cell_type": "markdown",
   "id": "107f4cf7",
   "metadata": {},
   "source": [
    "we can use to analyze the frequency tables:"
   ]
  },
  {
   "cell_type": "code",
   "execution_count": 118,
   "id": "19e8afda",
   "metadata": {},
   "outputs": [],
   "source": [
    "def frequency(dataset,index):\n",
    "    table = {}\n",
    "    total = 0 \n",
    "    \n",
    "    for row in dataset:\n",
    "        total += 1\n",
    "        value = row[index]\n",
    "        \n",
    "        if value in table:\n",
    "            table[value] += 1\n",
    "        else:\n",
    "            table[value] = 1\n",
    "            \n",
    "    table_percentages = {}\n",
    "    \n",
    "    for key in table:\n",
    "        percentage = (table[key] / total) * 100\n",
    "        table_percentages[key] = percentage \n",
    "    return table_percentages \n",
    "            "
   ]
  },
  {
   "cell_type": "code",
   "execution_count": 119,
   "id": "abefb4d3",
   "metadata": {},
   "outputs": [],
   "source": [
    "def display_table(dataset, index):\n",
    "    table = frequency(dataset,index)\n",
    "    \n",
    "    table_display = []\n",
    "    for key in table:\n",
    "        key_val_as_tuple = (table[key], key)  \n",
    "        table_display.append(key_val_as_tuple)  \n",
    "        \n",
    "    \n",
    "    table_sorted = sorted(table_display, reverse=True)\n",
    "    for entry in table_sorted:\n",
    "        print(entry[1], ':', entry[0]) "
   ]
  },
  {
   "cell_type": "code",
   "execution_count": 120,
   "id": "fa52c5a8",
   "metadata": {},
   "outputs": [
    {
     "name": "stdout",
     "output_type": "stream",
     "text": [
      "['284882215', 'Facebook', '389879808', 'USD', '0.0', '2974676', '212', '3.5', '3.5', '95.0', '4+', 'Social Networking', '37', '1', '29', '1']\n"
     ]
    }
   ],
   "source": [
    "print(ios_final[0])"
   ]
  },
  {
   "cell_type": "code",
   "execution_count": 121,
   "id": "e754e1e0",
   "metadata": {},
   "outputs": [
    {
     "name": "stdout",
     "output_type": "stream",
     "text": [
      "['Coloring book moana', 'ART_AND_DESIGN', '3.9', '967', '14M', '500,000+', 'Free', '0', 'Everyone', 'Art & Design;Pretend Play', 'January 15, 2018', '2.0.0', '4.0.3 and up']\n"
     ]
    }
   ],
   "source": [
    "print(apk_final[1])"
   ]
  },
  {
   "cell_type": "markdown",
   "id": "2a6c7174",
   "metadata": {},
   "source": [
    "## Genres"
   ]
  },
  {
   "cell_type": "code",
   "execution_count": 122,
   "id": "36417f9d",
   "metadata": {
    "scrolled": true
   },
   "outputs": [
    {
     "name": "stdout",
     "output_type": "stream",
     "text": [
      "Games : 55.64595660749507\n",
      "Entertainment : 8.234714003944774\n",
      "Photo & Video : 4.117357001972387\n",
      "Social Networking : 3.5256410256410255\n",
      "Education : 3.2544378698224854\n",
      "Shopping : 2.983234714003945\n",
      "Utilities : 2.687376725838264\n",
      "Lifestyle : 2.3175542406311638\n",
      "Finance : 2.0710059171597637\n",
      "Sports : 1.947731755424063\n",
      "Health & Fitness : 1.8737672583826428\n",
      "Music : 1.6518737672583828\n",
      "Book : 1.6272189349112427\n",
      "Productivity : 1.5285996055226825\n",
      "News : 1.4299802761341223\n",
      "Travel : 1.3806706114398422\n",
      "Food & Drink : 1.0601577909270217\n",
      "Weather : 0.7642998027613412\n",
      "Reference : 0.4930966469428008\n",
      "Navigation : 0.4930966469428008\n",
      "Business : 0.4930966469428008\n",
      "Catalogs : 0.22189349112426035\n",
      "Medical : 0.19723865877712032\n"
     ]
    }
   ],
   "source": [
    "display_table(ios_final,11)"
   ]
  },
  {
   "cell_type": "code",
   "execution_count": 123,
   "id": "452ea368",
   "metadata": {},
   "outputs": [
    {
     "name": "stdout",
     "output_type": "stream",
     "text": [
      "FAMILY : 17.739043824701195\n",
      "GAME : 10.56772908366534\n",
      "TOOLS : 7.6195219123505975\n",
      "BUSINESS : 4.442231075697211\n",
      "PRODUCTIVITY : 3.944223107569721\n",
      "LIFESTYLE : 3.6155378486055776\n",
      "SPORTS : 3.5856573705179287\n",
      "COMMUNICATION : 3.5856573705179287\n",
      "MEDICAL : 3.5258964143426295\n",
      "FINANCE : 3.4760956175298805\n",
      "HEALTH_AND_FITNESS : 3.237051792828685\n",
      "PHOTOGRAPHY : 3.117529880478088\n",
      "PERSONALIZATION : 3.0776892430278884\n",
      "SOCIAL : 2.908366533864542\n",
      "NEWS_AND_MAGAZINES : 2.7988047808764938\n",
      "SHOPPING : 2.5697211155378485\n",
      "TRAVEL_AND_LOCAL : 2.450199203187251\n",
      "DATING : 2.2609561752988045\n",
      "BOOKS_AND_REFERENCE : 2.0219123505976095\n",
      "VIDEO_PLAYERS : 1.7031872509960162\n",
      "EDUCATION : 1.5139442231075697\n",
      "ENTERTAINMENT : 1.4641434262948207\n",
      "MAPS_AND_NAVIGATION : 1.3147410358565739\n",
      "FOOD_AND_DRINK : 1.245019920318725\n",
      "HOUSE_AND_HOME : 0.8764940239043826\n",
      "LIBRARIES_AND_DEMO : 0.8366533864541833\n",
      "AUTO_AND_VEHICLES : 0.8167330677290837\n",
      "WEATHER : 0.7370517928286853\n",
      "EVENTS : 0.6274900398406374\n",
      "ART_AND_DESIGN : 0.6175298804780877\n",
      "COMICS : 0.5976095617529881\n",
      "PARENTING : 0.5776892430278884\n",
      "BEAUTY : 0.5278884462151394\n"
     ]
    }
   ],
   "source": [
    "display_table(apk_final,1)"
   ]
  },
  {
   "cell_type": "markdown",
   "id": "b79087fb",
   "metadata": {},
   "source": [
    "## Category"
   ]
  },
  {
   "cell_type": "code",
   "execution_count": 124,
   "id": "6e58bb59",
   "metadata": {},
   "outputs": [
    {
     "name": "stdout",
     "output_type": "stream",
     "text": [
      "Tools : 7.609561752988048\n",
      "Entertainment : 6.01593625498008\n",
      "Education : 5.169322709163347\n",
      "Business : 4.442231075697211\n",
      "Productivity : 3.944223107569721\n",
      "Sports : 3.7250996015936253\n",
      "Lifestyle : 3.6055776892430282\n",
      "Communication : 3.5856573705179287\n",
      "Medical : 3.5258964143426295\n",
      "Finance : 3.4760956175298805\n",
      "Action : 3.396414342629482\n",
      "Health & Fitness : 3.237051792828685\n",
      "Photography : 3.117529880478088\n",
      "Personalization : 3.0776892430278884\n",
      "Social : 2.908366533864542\n",
      "News & Magazines : 2.7988047808764938\n",
      "Shopping : 2.5697211155378485\n",
      "Travel & Local : 2.4402390438247012\n",
      "Dating : 2.2609561752988045\n",
      "Books & Reference : 2.0219123505976095\n",
      "Arcade : 1.9920318725099602\n",
      "Simulation : 1.902390438247012\n",
      "Casual : 1.8326693227091633\n",
      "Video Players & Editors : 1.6832669322709164\n",
      "Maps & Navigation : 1.3147410358565739\n",
      "Food & Drink : 1.245019920318725\n",
      "Puzzle : 1.205179282868526\n",
      "Racing : 0.9462151394422311\n",
      "Strategy : 0.9362549800796812\n",
      "House & Home : 0.8764940239043826\n",
      "Role Playing : 0.8665338645418327\n",
      "Libraries & Demo : 0.8366533864541833\n",
      "Auto & Vehicles : 0.8167330677290837\n",
      "Weather : 0.7370517928286853\n",
      "Events : 0.6274900398406374\n",
      "Adventure : 0.6274900398406374\n",
      "Comics : 0.5876494023904383\n",
      "Art & Design : 0.5478087649402391\n",
      "Beauty : 0.5278884462151394\n",
      "Parenting : 0.4382470119521913\n",
      "Education;Education : 0.4382470119521913\n",
      "Card : 0.40836653386454186\n",
      "Trivia : 0.3784860557768924\n",
      "Educational;Education : 0.3784860557768924\n",
      "Casino : 0.3784860557768924\n",
      "Board : 0.348605577689243\n",
      "Educational : 0.32868525896414347\n",
      "Word : 0.2888446215139442\n",
      "Entertainment;Music & Video : 0.26892430278884466\n",
      "Casual;Pretend Play : 0.24900398406374502\n",
      "Music : 0.20916334661354583\n",
      "Casual;Action & Adventure : 0.199203187250996\n",
      "Racing;Action & Adventure : 0.1892430278884462\n",
      "Puzzle;Brain Games : 0.1693227091633466\n",
      "Educational;Pretend Play : 0.13944223107569723\n",
      "Action;Action & Adventure : 0.13944223107569723\n",
      "Casual;Brain Games : 0.1294820717131474\n",
      "Arcade;Action & Adventure : 0.1195219123505976\n",
      "Simulation;Action & Adventure : 0.10956175298804782\n",
      "Adventure;Action & Adventure : 0.10956175298804782\n",
      "Entertainment;Brain Games : 0.0796812749003984\n",
      "Education;Pretend Play : 0.0796812749003984\n",
      "Board;Brain Games : 0.0796812749003984\n",
      "Parenting;Education : 0.06972111553784861\n",
      "Casual;Creativity : 0.06972111553784861\n",
      "Art & Design;Creativity : 0.06972111553784861\n",
      "Role Playing;Action & Adventure : 0.0597609561752988\n",
      "Parenting;Music & Video : 0.0597609561752988\n",
      "Educational;Brain Games : 0.0597609561752988\n",
      "Role Playing;Pretend Play : 0.049800796812749\n",
      "Puzzle;Action & Adventure : 0.049800796812749\n",
      "Education;Music & Video : 0.049800796812749\n",
      "Education;Creativity : 0.049800796812749\n",
      "Educational;Action & Adventure : 0.0398406374501992\n",
      "Education;Brain Games : 0.0398406374501992\n",
      "Education;Action & Adventure : 0.0398406374501992\n",
      "Video Players & Editors;Music & Video : 0.0298804780876494\n",
      "Simulation;Pretend Play : 0.0298804780876494\n",
      "Entertainment;Creativity : 0.0298804780876494\n",
      "Entertainment;Action & Adventure : 0.0298804780876494\n",
      "Educational;Creativity : 0.0298804780876494\n",
      "Video Players & Editors;Creativity : 0.0199203187250996\n",
      "Sports;Action & Adventure : 0.0199203187250996\n",
      "Puzzle;Creativity : 0.0199203187250996\n",
      "Music;Music & Video : 0.0199203187250996\n",
      "Entertainment;Pretend Play : 0.0199203187250996\n",
      "Casual;Music & Video : 0.0199203187250996\n",
      "Casual;Education : 0.0199203187250996\n",
      "Board;Action & Adventure : 0.0199203187250996\n",
      "Art & Design;Pretend Play : 0.0199203187250996\n",
      "Art & Design;Action & Adventure : 0.0199203187250996\n",
      "Adventure;Education : 0.0199203187250996\n",
      "Trivia;Education : 0.0099601593625498\n",
      "Travel & Local;Action & Adventure : 0.0099601593625498\n",
      "Tools;Education : 0.0099601593625498\n",
      "Strategy;Education : 0.0099601593625498\n",
      "Strategy;Creativity : 0.0099601593625498\n",
      "Strategy;Action & Adventure : 0.0099601593625498\n",
      "Simulation;Education : 0.0099601593625498\n",
      "Role Playing;Brain Games : 0.0099601593625498\n",
      "Racing;Pretend Play : 0.0099601593625498\n",
      "Puzzle;Education : 0.0099601593625498\n",
      "Parenting;Brain Games : 0.0099601593625498\n",
      "Music & Audio;Music & Video : 0.0099601593625498\n",
      "Lifestyle;Pretend Play : 0.0099601593625498\n",
      "Lifestyle;Education : 0.0099601593625498\n",
      "Health & Fitness;Education : 0.0099601593625498\n",
      "Health & Fitness;Action & Adventure : 0.0099601593625498\n",
      "Entertainment;Education : 0.0099601593625498\n",
      "Communication;Creativity : 0.0099601593625498\n",
      "Comics;Creativity : 0.0099601593625498\n",
      "Card;Brain Games : 0.0099601593625498\n",
      "Card;Action & Adventure : 0.0099601593625498\n",
      "Books & Reference;Education : 0.0099601593625498\n",
      "Arcade;Pretend Play : 0.0099601593625498\n"
     ]
    }
   ],
   "source": [
    "display_table(apk_final,9)"
   ]
  },
  {
   "cell_type": "markdown",
   "id": "6a338cf1",
   "metadata": {},
   "source": [
    "## Most Popular Apps by Genre on the App Store"
   ]
  },
  {
   "cell_type": "markdown",
   "id": "8a249f14",
   "metadata": {},
   "source": [
    "we can find this though most install appication "
   ]
  },
  {
   "cell_type": "code",
   "execution_count": 125,
   "id": "62048988",
   "metadata": {},
   "outputs": [
    {
     "name": "stdout",
     "output_type": "stream",
     "text": [
      "Social Networking : 53078.195804195806\n",
      "Photo & Video : 27249.892215568863\n",
      "Games : 18924.68896765618\n",
      "Music : 56482.02985074627\n",
      "Reference : 67447.9\n",
      "Health & Fitness : 19952.315789473683\n",
      "Weather : 47220.93548387097\n",
      "Utilities : 14010.100917431193\n",
      "Travel : 20216.01785714286\n",
      "Shopping : 18746.677685950413\n",
      "News : 15892.724137931034\n",
      "Navigation : 25972.05\n",
      "Lifestyle : 8978.308510638299\n",
      "Entertainment : 10822.961077844311\n",
      "Food & Drink : 20179.093023255813\n",
      "Sports : 20128.974683544304\n",
      "Book : 8498.333333333334\n",
      "Finance : 13522.261904761905\n",
      "Education : 6266.333333333333\n",
      "Productivity : 19053.887096774193\n",
      "Business : 6367.8\n",
      "Catalogs : 1779.5555555555557\n",
      "Medical : 459.75\n"
     ]
    }
   ],
   "source": [
    "genres_ios = frequency(ios_final, -5)\n",
    "\n",
    "for genre in genres_ios:\n",
    "    total = 0\n",
    "    len_genre = 0\n",
    "    for app in ios_final:\n",
    "        genre_app = app[-5]\n",
    "        if genre_app == genre:            \n",
    "            n_ratings = float(app[5])\n",
    "            total += n_ratings\n",
    "            len_genre += 1\n",
    "    avg_n_ratings = total / len_genre\n",
    "    print(genre, ':', avg_n_ratings)"
   ]
  },
  {
   "cell_type": "markdown",
   "id": "f140aae5",
   "metadata": {},
   "source": [
    "## Most Popular Apps by Genre on Google Play"
   ]
  },
  {
   "cell_type": "code",
   "execution_count": 132,
   "id": "289f4136",
   "metadata": {},
   "outputs": [
    {
     "name": "stdout",
     "output_type": "stream",
     "text": [
      "1,000,000+ : 15.488047808764941\n",
      "10,000,000+ : 12.4402390438247\n",
      "100,000+ : 10.747011952191235\n",
      "10,000+ : 9.213147410358566\n",
      "1,000+ : 7.5498007968127485\n",
      "5,000,000+ : 7.49003984063745\n",
      "100+ : 6.205179282868526\n",
      "500,000+ : 5.249003984063745\n",
      "50,000+ : 4.342629482071713\n",
      "5,000+ : 4.083665338645418\n",
      "100,000,000+ : 4.073705179282869\n",
      "10+ : 3.1474103585657374\n",
      "500+ : 2.888446215139442\n",
      "50,000,000+ : 2.8784860557768925\n",
      "50+ : 1.7031872509960162\n",
      "500,000,000+ : 0.7171314741035857\n",
      "5+ : 0.697211155378486\n",
      "1,000,000,000+ : 0.5776892430278884\n",
      "1+ : 0.4581673306772908\n",
      "0+ : 0.0398406374501992\n",
      "0 : 0.0099601593625498\n"
     ]
    }
   ],
   "source": [
    "display_table(apk_final, 5) "
   ]
  },
  {
   "cell_type": "markdown",
   "id": "eab4d9e4",
   "metadata": {},
   "source": [
    "## Conclusion\n",
    "\n",
    "AppTrendz had taken us through a great ride of the worlds of mobile application data from the Apple Store and the Android Store. Our study was focused on free to download apps from both stores, keeping an eye to try and understand how it was even possible for in-app advertising to be an effective revenue model given the dynamics around user engagement.\n",
    "\n",
    "Meticulous statistical analysis has really unveiled significant trends and patterns that aid in the prediction of user engagement and popularity of apps in the world of mobile apps. It is important to realize that user engagement remains correlated with the frequency and type of in-app ads, not to mention the genre and size of apps, among other attributes such as users' reviews. This is because our genre analysis points out certain genres always get more users; the Games genre, Social Networking genre, and Entertainment app genre stand high in user engagement.\n",
    "\n",
    "According to our predictive analysis, future trends would indicate that these three genres are most likely going to dominate further, with technology and customer preferences going in favor of niche categories. For the technical performance evaluation, user experience was highlighted as being affected by app speed and reliability so that high engagement is kept up.\n",
    "\n",
    "In sum, \"AppTrendz\" has paid off quite substantially in broadening our current mobile market understanding and providing us skillful perspectives in strategic decisions about app development and marketing. The following insights from the particular project, therefore, re-emphasize the use of user-centered design along with placing strategic advertisements and tracking market changes in order to make it big in an App world where cut-throat competition holds the key. A real illustration of excellent analytical abilities: it takes the modification of intricate figures into concrete strategies, presenting essential competencies for anybody willing to be successful or navigate into the field of mobile app development."
   ]
  },
  {
   "cell_type": "code",
   "execution_count": null,
   "id": "70443624",
   "metadata": {},
   "outputs": [],
   "source": []
  },
  {
   "cell_type": "code",
   "execution_count": null,
   "id": "cca8f0d1",
   "metadata": {},
   "outputs": [],
   "source": []
  }
 ],
 "metadata": {
  "kernelspec": {
   "display_name": "Python 3 (ipykernel)",
   "language": "python",
   "name": "python3"
  },
  "language_info": {
   "codemirror_mode": {
    "name": "ipython",
    "version": 3
   },
   "file_extension": ".py",
   "mimetype": "text/x-python",
   "name": "python",
   "nbconvert_exporter": "python",
   "pygments_lexer": "ipython3",
   "version": "3.11.5"
  }
 },
 "nbformat": 4,
 "nbformat_minor": 5
}
